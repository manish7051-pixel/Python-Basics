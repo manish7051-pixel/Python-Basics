{
  "nbformat": 4,
  "nbformat_minor": 0,
  "metadata": {
    "colab": {
      "provenance": []
    },
    "kernelspec": {
      "name": "python3",
      "display_name": "Python 3"
    },
    "language_info": {
      "name": "python"
    }
  },
  "cells": [
    {
      "cell_type": "code",
      "execution_count": null,
      "metadata": {
        "id": "-TbfqwZq3eL6"
      },
      "outputs": [],
      "source": []
    },
    {
      "cell_type": "markdown",
      "source": [
        "#Python basics\n"
      ],
      "metadata": {
        "id": "79r0jTPM3fhT"
      }
    },
    {
      "cell_type": "markdown",
      "source": [
        "1. What is Python, and why is it popular?\n",
        "  - Python is a high-level, interpreted programming language known for its simplicity and readability.\n",
        "  It is popular because of its versatility, extensive libraries, and strong community support.\n",
        "   It is used in web development, data science, automation, AI, and more."
      ],
      "metadata": {
        "id": "KoUlUatV5aA7"
      }
    },
    {
      "cell_type": "markdown",
      "source": [
        "2. What is an interpreter in Python?\n",
        "  \n",
        "    - An interpreter in Python is a program that reads and executes Python code line by line.\n",
        "It converts Python code into machine code or bytecode on the fly, allowing for immediate execution."
      ],
      "metadata": {
        "id": "jujddhjN6CN_"
      }
    },
    {
      "cell_type": "markdown",
      "source": [
        "3. What are pre-defined keywords in Python?\n",
        " - Pre-defined keywords in Python are reserved words that have special meanings and cannot be used as identifiers.\n",
        " Examples include `if`, `else`, `for`, `while`, `def`, `class`, etc."
      ],
      "metadata": {
        "id": "utXubN_i7Jlc"
      }
    },
    {
      "cell_type": "markdown",
      "source": [
        "4. Can keywords be used as variable names?\n",
        "  -  No, keywords cannot be used as variable names because they are reserved for specific purposes in Python.\n",
        "  Attempting to use a keyword as a variable name will result in a syntax error."
      ],
      "metadata": {
        "id": "1_Sq0F-77tUQ"
      }
    },
    {
      "cell_type": "markdown",
      "source": [
        "5. What is mutability in Python?\n",
        "  -  Mutability refers to whether an object's value can be changed after it is created.\n",
        " Mutable objects (like lists) can be modified, while immutable objects (like tuples) cannot."
      ],
      "metadata": {
        "id": "faiMoXiS73PA"
      }
    },
    {
      "cell_type": "markdown",
      "source": [
        "6. Why are lists mutable, but tuples are immutable?\n",
        "  - Lists are mutable because they are designed to be dynamic and allow modifications like adding, removing, or changing elements.\n",
        " Tuples are immutable to ensure data integrity and prevent accidental changes, making them suitable for fixed data."
      ],
      "metadata": {
        "id": "h5Vmpb-a8SGY"
      }
    },
    {
      "cell_type": "markdown",
      "source": [
        "7. What is the difference between “==” and “is” operators in Python?\n",
        "  -  The \"==\" operator checks if two objects have the same value.\n",
        " The \"is\" operator checks if two objects refer to the same memory location (i.e., they are the same object)."
      ],
      "metadata": {
        "id": "g19fMEON8ct2"
      }
    },
    {
      "cell_type": "markdown",
      "source": [
        "8. What are logical operators in Python?\n",
        "  -  Logical operators in Python are used to combine conditional statements.\n",
        " The main logical operators are `and`, `or`, and `not`."
      ],
      "metadata": {
        "id": "SGUEWO5l8pRM"
      }
    },
    {
      "cell_type": "markdown",
      "source": [
        "9. What is type casting in Python?\n",
        "  -  Type casting is the process of converting a value from one data type to another.\n",
        "For example, converting a string to an integer using `int()`."
      ],
      "metadata": {
        "id": "aTlAwxP99tga"
      }
    },
    {
      "cell_type": "markdown",
      "source": [
        "10. What is the difference between implicit and explicit type casting?\n",
        "  - Implicit type casting is done automatically by Python (e.g., converting an integer to a float during arithmetic operations).\n",
        "Explicit type casting is done manually by the programmer using functions like `int()`, `float()`, `str()`, etc."
      ],
      "metadata": {
        "id": "BnXKhQtN956N"
      }
    },
    {
      "cell_type": "markdown",
      "source": [
        "11. What is the purpose of conditional statements in Python?\n",
        "  -  Conditional statements (like `if`, `elif`, `else`) are used to execute different blocks of code based on certain conditions.\n",
        "They allow for decision-making in programs."
      ],
      "metadata": {
        "id": "TypQLTtq-E5b"
      }
    },
    {
      "cell_type": "markdown",
      "source": [
        "12. How does the elif statement work?\n",
        "  -  The `elif` statement is used to check multiple conditions after an initial `if` statement.\n",
        " If the `if` condition is false, the `elif` condition is checked. If true, its block of code is executed."
      ],
      "metadata": {
        "id": "hTKTz_vQ-Np_"
      }
    },
    {
      "cell_type": "markdown",
      "source": [
        "13. What is the difference between for and while loops?\n",
        "  -  A `for` loop is used to iterate over a sequence (like a list or range) for a known number of iterations.\n",
        " A `while` loop continues to execute as long as a specified condition is true, and the number of iterations is not known in advance."
      ],
      "metadata": {
        "id": "W1NfFOBq-Yyv"
      }
    },
    {
      "cell_type": "markdown",
      "source": [
        "14. Describe a scenario where a while loop is more suitable than a for loop.\n",
        "  -  A `while` loop is more suitable when the number of iterations is not known in advance.\n",
        "For example, reading user input until a specific condition is met (e.g., entering \"quit\").\n"
      ],
      "metadata": {
        "id": "G7EMRbHL-jOo"
      }
    },
    {
      "cell_type": "markdown",
      "source": [
        "# **Practical Questions Solution**"
      ],
      "metadata": {
        "id": "JwTClO1o_7Bl"
      }
    },
    {
      "cell_type": "code",
      "source": [
        "#1. Write a Python program to print \"Hello, World!\"\n",
        "print(\"Hello, World!\")\n"
      ],
      "metadata": {
        "colab": {
          "base_uri": "https://localhost:8080/"
        },
        "id": "mEpQdmDBBEAI",
        "outputId": "cfb57911-670c-43cf-b0a9-47fd6bbe8fe0"
      },
      "execution_count": 5,
      "outputs": [
        {
          "output_type": "stream",
          "name": "stdout",
          "text": [
            "Hello, World!\n"
          ]
        }
      ]
    },
    {
      "cell_type": "code",
      "source": [
        "#2. Write a Python program that displays your name and age.\n",
        "name = \"manish\"\n",
        "age = 25\n",
        "print(f\"My name is manish and I am 25 years old.\")"
      ],
      "metadata": {
        "colab": {
          "base_uri": "https://localhost:8080/"
        },
        "id": "6GdMvs4NBeAC",
        "outputId": "652b088b-c98c-4255-eecd-2512f5c8f015"
      },
      "execution_count": 7,
      "outputs": [
        {
          "output_type": "stream",
          "name": "stdout",
          "text": [
            "My name is manish and I am 25 years old.\n"
          ]
        }
      ]
    },
    {
      "cell_type": "markdown",
      "source": [],
      "metadata": {
        "id": "w1CWk2ABA3Rq"
      }
    },
    {
      "cell_type": "code",
      "source": [
        "#3. Write code to print all the pre-defined keywords in Python using the keyword library.\n",
        "import keyword\n",
        "print(keyword.kwlist)"
      ],
      "metadata": {
        "colab": {
          "base_uri": "https://localhost:8080/"
        },
        "id": "3uYYtiZVCQQv",
        "outputId": "858124c5-0d19-4e14-ee4b-0a4d51119e58"
      },
      "execution_count": 8,
      "outputs": [
        {
          "output_type": "stream",
          "name": "stdout",
          "text": [
            "['False', 'None', 'True', 'and', 'as', 'assert', 'async', 'await', 'break', 'class', 'continue', 'def', 'del', 'elif', 'else', 'except', 'finally', 'for', 'from', 'global', 'if', 'import', 'in', 'is', 'lambda', 'nonlocal', 'not', 'or', 'pass', 'raise', 'return', 'try', 'while', 'with', 'yield']\n"
          ]
        }
      ]
    },
    {
      "cell_type": "code",
      "source": [
        "#4. Write a program that checks if a given word is a Python keyword.\n",
        "import keyword\n",
        "word = \"if\"\n",
        "if keyword.iskeyword(word):\n",
        "    print(f\"{word} is a Python keyword.\")\n",
        "else:\n",
        "    print(f\"{word} is not a Python keyword.\")"
      ],
      "metadata": {
        "colab": {
          "base_uri": "https://localhost:8080/"
        },
        "id": "XzRStRmu8Ows",
        "outputId": "f950c8d2-93de-4e64-8d50-fdfc1e56ff4f"
      },
      "execution_count": 9,
      "outputs": [
        {
          "output_type": "stream",
          "name": "stdout",
          "text": [
            "if is a Python keyword.\n"
          ]
        }
      ]
    },
    {
      "cell_type": "code",
      "source": [
        "#5. Create a list and tuple in Python, and demonstrate how attempting to change an element works differently for each.\n",
        "# List (mutable)\n",
        "my_list = [1, 2, 3]\n",
        "my_list[0] = 10  # This works\n",
        "print(\"List after modification:\", my_list)\n",
        "\n",
        "# Tuple (immutable)\n",
        "my_tuple = (1, 2, 3)\n",
        "# my_tuple[0] = 10  # This will raise an error\n",
        "print(\"Tuple remains unchanged:\", my_tuple)"
      ],
      "metadata": {
        "colab": {
          "base_uri": "https://localhost:8080/"
        },
        "id": "0R87CjH1Cn31",
        "outputId": "712a860c-751c-4889-af4d-0155f0a7c8c8"
      },
      "execution_count": 10,
      "outputs": [
        {
          "output_type": "stream",
          "name": "stdout",
          "text": [
            "List after modification: [10, 2, 3]\n",
            "Tuple remains unchanged: (1, 2, 3)\n"
          ]
        }
      ]
    },
    {
      "cell_type": "code",
      "source": [
        "#6. Write a function to demonstrate the behavior of mutable and immutable arguments.\n",
        "def modify_args(mutable_arg, immutable_arg):\n",
        "    # Modifying the mutable argument (list)\n",
        "    mutable_arg.append(4)  # This will modify the original list\n",
        "    print(\"Inside function - Mutable arg after modification:\", mutable_arg)\n",
        "\n",
        "    # Modifying the immutable argument (string)\n",
        "    immutable_arg += \" World\"  # This creates a new string, original remains unchanged\n",
        "    print(\"Inside function - Immutable arg after modification:\", immutable_arg)\n",
        "\n",
        "# Mutable object (list)\n",
        "my_list = [1, 2, 3]\n",
        "\n",
        "# Immutable object (string)\n",
        "my_string = \"Hello\"\n",
        "\n",
        "# Before modification\n",
        "print(\"Before function call - Mutable arg:\", my_list)\n",
        "print(\"Before function call - Immutable arg:\", my_string)\n",
        "\n",
        "# Call the function\n",
        "modify_args(my_list, my_string)\n",
        "\n",
        "# After modification\n",
        "print(\"After function call - Mutable arg:\", my_list)  # Original list is modified\n",
        "print(\"After function call - Immutable arg:\", my_string)  # Original string remains unchanged"
      ],
      "metadata": {
        "colab": {
          "base_uri": "https://localhost:8080/"
        },
        "id": "c8V0CPwCEBw8",
        "outputId": "e1905024-558f-41c7-9bfd-b769aa13e626"
      },
      "execution_count": 16,
      "outputs": [
        {
          "output_type": "stream",
          "name": "stdout",
          "text": [
            "Before function call - Mutable arg: [1, 2, 3]\n",
            "Before function call - Immutable arg: Hello\n",
            "Inside function - Mutable arg after modification: [1, 2, 3, 4]\n",
            "Inside function - Immutable arg after modification: Hello World\n",
            "After function call - Mutable arg: [1, 2, 3, 4]\n",
            "After function call - Immutable arg: Hello\n"
          ]
        }
      ]
    },
    {
      "cell_type": "code",
      "source": [
        "#7. Write a program to demonstrate the use of logical operators.\n",
        "a = True\n",
        "b = False\n",
        "\n",
        "# Logical AND\n",
        "result_and = a and b\n",
        "print(f\"Logical AND: {result_and}\")  # Output: False\n",
        "\n",
        "# Logical OR\n",
        "result_or = a or b\n",
        "print(f\"Logical OR: {result_or}\")"
      ],
      "metadata": {
        "colab": {
          "base_uri": "https://localhost:8080/"
        },
        "id": "PjYCsfthE830",
        "outputId": "493fa5a8-7e00-4c0e-ac37-2b297b374215"
      },
      "execution_count": 19,
      "outputs": [
        {
          "output_type": "stream",
          "name": "stdout",
          "text": [
            "Logical AND: False\n",
            "Logical OR: True\n"
          ]
        }
      ]
    },
    {
      "cell_type": "code",
      "source": [
        "#8. Write a Python program to convert user input from string to integer, float, and boolean types.\n",
        "user_input = input(\"Enter a number: \")\n",
        "int_value = int(user_input)\n",
        "float_value = float(user_input)\n",
        "bool_value = bool(int_value)\n",
        "print(f\"Integer: {int_value}, Float: {float_value}, Boolean: {bool_value}\")"
      ],
      "metadata": {
        "colab": {
          "base_uri": "https://localhost:8080/"
        },
        "id": "lqxqnvQHFusm",
        "outputId": "557b1973-5e51-4a3f-a824-828a23cdf791"
      },
      "execution_count": 24,
      "outputs": [
        {
          "output_type": "stream",
          "name": "stdout",
          "text": [
            "Enter a number: 25\n",
            "Integer: 25, Float: 25.0, Boolean: True\n"
          ]
        }
      ]
    },
    {
      "cell_type": "code",
      "source": [
        "#9. Write code to demonstrate type casting with list elements.\n",
        "my_list = [\"10\", \"20.5\", \"True\"]\n",
        "int_value = int(my_list[0])\n",
        "float_value = float(my_list[1])\n",
        "bool_value = bool(my_list[2])\n",
        "print(f\"Integer: {int_value}, Float: {float_value}, Boolean: {bool_value}\")"
      ],
      "metadata": {
        "colab": {
          "base_uri": "https://localhost:8080/"
        },
        "id": "4wLslwDaG3ku",
        "outputId": "7e565224-c182-406c-a12d-20f3a54559ac"
      },
      "execution_count": 25,
      "outputs": [
        {
          "output_type": "stream",
          "name": "stdout",
          "text": [
            "Integer: 10, Float: 20.5, Boolean: True\n"
          ]
        }
      ]
    },
    {
      "cell_type": "code",
      "source": [
        "#10. Write a program that checks if a number is positive, negative, or zero.\n",
        "num = float(input(\"Enter a number: \"))\n",
        "if num > 0:\n",
        "    print(\"The number is positive.\")\n",
        "elif num < 0:\n",
        "    print(\"The number is negative.\")\n",
        "else:\n",
        "    print(\"The number is zero.\")"
      ],
      "metadata": {
        "colab": {
          "base_uri": "https://localhost:8080/"
        },
        "id": "g8zHD6_MHD1-",
        "outputId": "57d0b166-8632-4178-8f6d-21f08d41dcf6"
      },
      "execution_count": 27,
      "outputs": [
        {
          "output_type": "stream",
          "name": "stdout",
          "text": [
            "Enter a number: -58\n",
            "The number is negative.\n"
          ]
        }
      ]
    },
    {
      "cell_type": "code",
      "source": [
        "#11. Write a for loop to print numbers from 1 to 10.\n",
        "for i in range(1, 11):\n",
        "    print(i)"
      ],
      "metadata": {
        "colab": {
          "base_uri": "https://localhost:8080/"
        },
        "id": "jZSKo23PHeoz",
        "outputId": "097977af-cd87-48ab-fee7-31f7e771f856"
      },
      "execution_count": 28,
      "outputs": [
        {
          "output_type": "stream",
          "name": "stdout",
          "text": [
            "1\n",
            "2\n",
            "3\n",
            "4\n",
            "5\n",
            "6\n",
            "7\n",
            "8\n",
            "9\n",
            "10\n"
          ]
        }
      ]
    },
    {
      "cell_type": "code",
      "source": [
        "#12. Write a Python program to find the sum of all even numbers between 1 and 50.\n",
        "sum_even = 0\n",
        "for num in range(2, 51, 2):\n",
        "    sum_even += num\n",
        "print(f\"The sum of even numbers from 1 to 50 is: {sum_even}\")"
      ],
      "metadata": {
        "colab": {
          "base_uri": "https://localhost:8080/"
        },
        "id": "TsRnX6K5H8dC",
        "outputId": "3abbbd56-09cb-4eef-cbea-51ff05a2ffb5"
      },
      "execution_count": 29,
      "outputs": [
        {
          "output_type": "stream",
          "name": "stdout",
          "text": [
            "The sum of even numbers from 1 to 50 is: 650\n"
          ]
        }
      ]
    },
    {
      "cell_type": "code",
      "source": [
        "#13. Write a program to reverse a string using a while loop.\n",
        "string = \"Hello\"\n",
        "reversed_string = \"\"\n",
        "index = len(string) - 1\n",
        "while index >= 0:\n",
        "    reversed_string += string[index]\n",
        "    index -= 1\n",
        "print(\"Reversed string:\", reversed_string)"
      ],
      "metadata": {
        "colab": {
          "base_uri": "https://localhost:8080/"
        },
        "id": "ZVqTz_R5ICQo",
        "outputId": "304c8f9b-e2fa-4013-f51b-65f2a03730d7"
      },
      "execution_count": 30,
      "outputs": [
        {
          "output_type": "stream",
          "name": "stdout",
          "text": [
            "Reversed string: olleH\n"
          ]
        }
      ]
    },
    {
      "cell_type": "code",
      "source": [
        "#14. Write a Python program to calculate the factorial of a number provided by the user using a while loop.\n",
        "num = int(input(\"Enter a number: \"))\n",
        "factorial = 1\n",
        "i = 1\n",
        "while i <= num:\n",
        "    factorial *= i\n",
        "    i += 1\n",
        "print(f\"Factorial of {num} is {factorial}\")"
      ],
      "metadata": {
        "colab": {
          "base_uri": "https://localhost:8080/"
        },
        "id": "v276RZ4pIJ7f",
        "outputId": "ffe2e3f0-a368-4616-8079-d5573609a095"
      },
      "execution_count": 31,
      "outputs": [
        {
          "output_type": "stream",
          "name": "stdout",
          "text": [
            "Enter a number: 448\n",
            "Factorial of 448 is 85789098397061750029433959223191259573264601099185895351111482779279039924941190329357836589479767909655091732335679771633845997556553576878729503495925105519286902748934822876700184264605434714368039160452079555234034199957974947886636827170200503027932522469803171758952753781691839367233825452532563790075310083163487275895491181960214316079774240551059196272019116160385152224381846552672195907901701190881017180799588128231603216036769481827976013650901222451368039438745596491854285876522346295004440126989185035274072278024861965246584050789450900049831039089960931854223018859189249262204394579760418235772578507424204347839824654530844082101636936088664267142881209946761212471911609574289060708585320724560220751538771066604350402876156856744229222833117479007139282557097365465493906527891818688904846541990720798163086948301426449187025231062171138669819218194696385184399360000000000000000000000000000000000000000000000000000000000000000000000000000000000000000000000000000000000000\n"
          ]
        }
      ]
    }
  ]
}